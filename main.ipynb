{
 "cells": [
  {
   "cell_type": "markdown",
   "id": "21752b6c-10ec-4964-b0ae-f29804abf1f7",
   "metadata": {},
   "source": [
    "# Example Motion Prediction\n",
    "In this example, we take a look at how to perform motion prediction in python in a Jupyter environment. We will walk you through the steps and hopefully, you will be able to modify this example. "
   ]
  },
  {
   "cell_type": "markdown",
   "id": "02f34356-9e42-493e-a6f9-45c97f990c43",
   "metadata": {},
   "source": [
    "## 0.0 Importing \n",
    "In python you have to tell the script which modules you want to use. [Help](https://docs.python.org/3/reference/import.html) \n",
    "Each \"module\" consists of \"functions\" that can be used after importing the module. You can also `import` single functions `from` a module. For later use, you can assign a nickname to a module, like `numpy as np`. You will call `numpy` functions as `np.someFunction` then. \n",
    "Oh, by the way: This text you are reading right now is written in  [Markdown](https://en.wikipedia.org/wiki/Markdown) format. Which comes with a bunch of formatting features as you can see. This can help to communicate your thoughts in such a notebook."
   ]
  },
  {
   "cell_type": "markdown",
   "id": "cc268928-8ef1-449c-844b-f27f3b66db46",
   "metadata": {},
   "source": [
    "### 0.1 Importing Modules\n",
    "Since we are working in Jupyter, we can run the cell below with all the import commands independently of the code below that cell.\n",
    "Click into the cell below and do one of the things below:\n",
    "- `Shift + Enter` will run the cell and moves to the next cell.\n",
    "- `Crtl + Enter` will run the cell but won't move to the next cell.\n",
    "- Move your mouse to the play symbol above and click."
   ]
  },
  {
   "cell_type": "code",
   "execution_count": 1,
   "id": "0c39e371",
   "metadata": {
    "collapsed": false,
    "jupyter": {
     "outputs_hidden": false
    },
    "pycharm": {
     "name": "#%%\n"
    }
   },
   "outputs": [
    {
     "name": "stdout",
     "output_type": "stream",
     "text": [
      "Succesfully imported!!\n"
     ]
    }
   ],
   "source": [
    "import os\n",
    "import sys\n",
    "import xlsxwriter\n",
    "from sklearn import preprocessing\n",
    "import numpy as np\n",
    "import pandas as pd\n",
    "\n",
    "print(\"Succesfully imported!!\")"
   ]
  },
  {
   "cell_type": "markdown",
   "id": "c83e2368",
   "metadata": {
    "pycharm": {
     "name": "#%% md\n"
    }
   },
   "source": [
    "I also included a `print` command, so the notebook tells me right in place, that the cell is successfully evaluated, which is quite neat!"
   ]
  },
  {
   "cell_type": "markdown",
   "id": "a9cb3f60",
   "metadata": {
    "pycharm": {
     "name": "#%% md\n"
    }
   },
   "source": [
    "### 0.2 Adding Local Libraries\n",
    "For this example, we've coded up some stuff to make our lifes (and maybe your's) easier. But since we didn't want to have all this arkward code hanging around in this nice little notebook, we crammed it into some regular python scripts, which can also be used in Jupyter. To take a look at this code, follow the path below:"
   ]
  },
  {
   "cell_type": "code",
   "execution_count": 2,
   "id": "13a29790",
   "metadata": {
    "collapsed": false,
    "jupyter": {
     "outputs_hidden": false
    },
    "pycharm": {
     "name": "#%%\n"
    }
   },
   "outputs": [],
   "source": [
    "sys.path.append('data_processing/')\n",
    "from readDataset import dataGrabber\n",
    "from preProcessing import preProcess\n",
    "from dataPreparation import dataPrepare"
   ]
  },
  {
   "cell_type": "markdown",
   "id": "dff888e4",
   "metadata": {
    "pycharm": {
     "name": "#%% md\n"
    }
   },
   "source": [
    "## 1.0 Get the Dataset Path\n",
    "To start working, we need some data. If you put the dataset to the right place, the following command will point to the dataset. "
   ]
  },
  {
   "cell_type": "code",
   "execution_count": 3,
   "id": "f4054cdf",
   "metadata": {
    "collapsed": false,
    "jupyter": {
     "outputs_hidden": false
    },
    "pycharm": {
     "name": "#%%\n"
    }
   },
   "outputs": [
    {
     "name": "stdout",
     "output_type": "stream",
     "text": [
      "../dataset/data/\n"
     ]
    }
   ],
   "source": [
    "dataset_path = '../dataset/data/'\n",
    "print(dataset_path)"
   ]
  },
  {
   "cell_type": "markdown",
   "id": "1c77534b",
   "metadata": {
    "pycharm": {
     "name": "#%% md\n"
    }
   },
   "source": [
    "## 2.0 Reading Data \n",
    "***(Use either 2.1 or 2.2)***\n",
    "\n",
    "Our helper function are able to read the dataset from the csv-files and introduce it into the Jupyter workspace. Please use **one of the following two options!**\n"
   ]
  },
  {
   "cell_type": "markdown",
   "id": "15ea102b",
   "metadata": {
    "pycharm": {
     "name": "#%% md\n"
    }
   },
   "source": [
    "### 2.1 Data reading with location ID\n",
    "Taking a look into the dataset, it is organized in locations with several recordings. The following will load all recordings from one location."
   ]
  },
  {
   "cell_type": "code",
   "execution_count": 4,
   "id": "0b2876ca",
   "metadata": {
    "collapsed": false,
    "jupyter": {
     "outputs_hidden": false
    },
    "pycharm": {
     "name": "#%%\n"
    }
   },
   "outputs": [
    {
     "data": {
      "text/plain": [
       "\"\\n# Edit to some other number to load a different dataset\\nlocations_sel = ['4']\\n\\n# Initialize data Grabber Object\\ndata_obj = dataGrabber(dataset_path)\\n\\ndata_obj.location_id = locations_sel\\ndata_obj.read_csv_with_location()\\n\\ntrack_data_raw = data_obj.get_tracks_data()\\ntrack_meta_data_raw = data_obj.get_tracksMeta_data()\\n\""
      ]
     },
     "execution_count": 4,
     "metadata": {},
     "output_type": "execute_result"
    }
   ],
   "source": [
    "\"\"\"\n",
    "# Edit to some other number to load a different dataset\n",
    "locations_sel = ['4']\n",
    "\n",
    "# Initialize data Grabber Object\n",
    "data_obj = dataGrabber(dataset_path)\n",
    "\n",
    "data_obj.location_id = locations_sel\n",
    "data_obj.read_csv_with_location()\n",
    "\n",
    "track_data_raw = data_obj.get_tracks_data()\n",
    "track_meta_data_raw = data_obj.get_tracksMeta_data()\n",
    "\"\"\""
   ]
  },
  {
   "cell_type": "markdown",
   "id": "96216a0e",
   "metadata": {
    "pycharm": {
     "name": "#%% md\n"
    }
   },
   "source": [
    "Now we created a `data_obj`, which is an \"object\". In python you can use the whole array of \"object-oriented-programming\" [(OOP)](https://en.wikipedia.org/wiki/Object-oriented_programming) concepts."
   ]
  },
  {
   "cell_type": "markdown",
   "id": "17856605",
   "metadata": {
    "pycharm": {
     "name": "#%% md\n"
    }
   },
   "source": [
    "### 2.2 Data reading with recording ID\n",
    "Alternatively, you can use the following cell to load several recordings by recording ID. The code below is \"commented out\", so if you run the cell the python interpreter doesn't read it as instructions, but as text (that usually should comment what the code does).\n",
    "If you remove the `\"\"\"` above and below the code, you can \"uncomment\" it and use it as acutal code."
   ]
  },
  {
   "cell_type": "code",
   "execution_count": 5,
   "id": "f9aacd20",
   "metadata": {
    "collapsed": false,
    "jupyter": {
     "outputs_hidden": false
    },
    "pycharm": {
     "name": "#%%\n"
    }
   },
   "outputs": [],
   "source": [
    "recording_id_sel = ['18']\n",
    "\n",
    "# Initialize data Grabber Object\n",
    "data_obj = dataGrabber(dataset_path)\n",
    "\n",
    "data_obj.recording_id = recording_id_sel\n",
    "data_obj.read_csv_with_recordingID()\n",
    "\n",
    "track_data_raw = data_obj.get_tracks_data()\n",
    "track_meta_data_raw = data_obj.get_tracksMeta_data()  "
   ]
  },
  {
   "cell_type": "markdown",
   "id": "d3f6b1a7",
   "metadata": {
    "pycharm": {
     "name": "#%% md\n"
    }
   },
   "source": [
    "## 3.0 Preprocessing the Data\n",
    "When working with data, it occurs that we get weird, noisy, unnecessary, large, unstructured ... chunks of excel sheets. From this starting point, it is our job to make use of this data and turn it into information.\n",
    "In our case, the dataset is at least in a given order, but we need to bring it into a nice structure to work with it. Therefore we create a `pre_process_obj` and hand it the data to extract some info first. "
   ]
  },
  {
   "cell_type": "code",
   "execution_count": 6,
   "id": "22cda410",
   "metadata": {
    "collapsed": false,
    "jupyter": {
     "outputs_hidden": false
    },
    "pycharm": {
     "name": "#%%\n"
    }
   },
   "outputs": [],
   "source": [
    "pre_process_obj = preProcess()\n",
    "pre_process_obj.tracks_data = track_data_raw\n",
    "pre_process_obj.tracks_meta_data = track_meta_data_raw\n",
    "pre_process_obj.recording_ids = data_obj.recording_id\n",
    "pre_process_obj.data_len = len(track_data_raw)"
   ]
  },
  {
   "cell_type": "markdown",
   "id": "fce06dc7",
   "metadata": {
    "pycharm": {
     "name": "#%% md\n"
    }
   },
   "source": [
    "### 3.1 Downsampling Data\n",
    "\n",
    "Take look at the recording files and how many MB they consume on your hard drive. Now check how much RAM your machine has. To juggle all this data constantly on your RAM might be impossible for your machine (most likely) or it is possible and you should overthink your priorities in life.\n",
    "Nonetheless, you don't need all your data to make nice prediction! More often than not, it is totally sufficient to use every $k$-th piece of data. The important thing to keep in mind is that you shouldn't make important **information** or **characteristics** of your data disappear. How do you know when this happens? You don't. At least you do not know for general data. For a specific subclass there exists the famous [Nyquist–Shannon sampling theorem](https://en.wikipedia.org/wiki/Nyquist%E2%80%93Shannon_sampling_theorem). Maybe you can lend some intuition of that idea to get the picture right."
   ]
  },
  {
   "cell_type": "markdown",
   "id": "9cc27709-7dee-4937-9da5-82c4e3d58ad5",
   "metadata": {},
   "source": [
    "See how many pieces of data you should skip to fit the requirements. Besides that, play around with the volume of data:\n",
    "- What's the minimum frame rate you can get away with to make a nice prediction?\n",
    "- What's the maximum frame rate your PC can handle?"
   ]
  },
  {
   "cell_type": "code",
   "execution_count": 7,
   "id": "11dc6292",
   "metadata": {
    "collapsed": false,
    "jupyter": {
     "outputs_hidden": false
    },
    "pycharm": {
     "name": "#%%\n"
    }
   },
   "outputs": [],
   "source": [
    "# Define the number of frames to be skipped + 1 => here 4 frames are skipped so 4+1 = 5\n",
    "\n",
    "pre_process_obj.frames_skipped = 5\n",
    "track_data_downsampled, tracks_meta_data = pre_process_obj.get_down_sampled_data()\n",
    "pre_process_obj.tracks_data = track_data_downsampled"
   ]
  },
  {
   "cell_type": "code",
   "execution_count": 8,
   "id": "01355f4f",
   "metadata": {
    "collapsed": false,
    "jupyter": {
     "outputs_hidden": false
    },
    "pycharm": {
     "name": "#%%\n"
    }
   },
   "outputs": [
    {
     "data": {
      "text/plain": [
       "array([    0,     5,    10, ..., 27975, 27980, 27985])"
      ]
     },
     "execution_count": 8,
     "metadata": {},
     "output_type": "execute_result"
    }
   ],
   "source": [
    "pd.unique(track_data_downsampled[\"frame\"])"
   ]
  },
  {
   "cell_type": "code",
   "execution_count": 9,
   "id": "eb64e8c1",
   "metadata": {
    "collapsed": false,
    "jupyter": {
     "outputs_hidden": false
    },
    "pycharm": {
     "name": "#%%\n"
    }
   },
   "outputs": [],
   "source": [
    "# Set 'True' or 'False'  ->> Avoids unnecessary data preparation while physics based predition\n",
    "PHYSICS_BASED_PREDICTION = False \n",
    "DATA_DRIVEN_PREDICTION = True"
   ]
  },
  {
   "cell_type": "markdown",
   "id": "6ef8df3c",
   "metadata": {
    "pycharm": {
     "name": "#%% md\n"
    }
   },
   "source": [
    "### 3.2 For Physical Model Based Prediction\n",
    "No more cleaning is required because our specific dataset already looks kind of clean. At least in our view and for this example. Maybe you are up to something that requires additional steps. \n",
    "\n",
    "Some things you could encounter in data are\n",
    "1. Missing data: Some track could be lost for some time and could be found again. How do you treat this gap? Did the dataset assign a new track ID although it is the same physical vehicle? \n",
    "2. Numeric issues: Everybody who uses google maps knows that teleportation is a thing. When you measure stuff, you can get weird outliers (huge or very small numbers) or for some reason they can get so huge that your PC cannot assign a numeric value anymore and therefore calls it NaN (\"Not a Number\"). \"NaN\"s are troublesome to handle because they are no numbers unlike all the regular, benign, well-behaved numbers in your data series. Some functions you want to use simply don't except NaNs and throw an error.\n"
   ]
  },
  {
   "cell_type": "code",
   "execution_count": 10,
   "id": "63593d2b",
   "metadata": {
    "collapsed": false,
    "jupyter": {
     "outputs_hidden": false
    },
    "pycharm": {
     "name": "#%%\n"
    }
   },
   "outputs": [],
   "source": [
    "if PHYSICS_BASED_PREDICTION:\n",
    "    track_data_downsamp_phy_model = track_data_downsampled \n",
    "    track_meta_data_phy_model = tracks_meta_data\n",
    "### So maybe you want to jump directly to section 5"
   ]
  },
  {
   "cell_type": "markdown",
   "id": "61f8aa65",
   "metadata": {
    "pycharm": {
     "name": "#%% md\n"
    }
   },
   "source": [
    "### 3.3 For Data-Driven Prediction Models\n",
    "\n",
    "The following steps are specific to data-driven prediction models."
   ]
  },
  {
   "cell_type": "markdown",
   "id": "0f3c9bd9",
   "metadata": {
    "pycharm": {
     "name": "#%% md\n"
    }
   },
   "source": [
    "### 3.3.1 Label Encoding\n",
    "Since the dataset contains alphabetical datatypes we need to cast them into numerical datatypes, since we want to process it mathematically. A common way to achieve this, is to \"encode\" \"classes\" as \"integer\" values."
   ]
  },
  {
   "cell_type": "code",
   "execution_count": 11,
   "id": "f02a583a",
   "metadata": {
    "collapsed": false,
    "jupyter": {
     "outputs_hidden": false
    },
    "pycharm": {
     "name": "#%%\n"
    }
   },
   "outputs": [
    {
     "name": "stdout",
     "output_type": "stream",
     "text": [
      "Labels Encoded\n",
      "0 : bicycle\n",
      "1 : car\n",
      "2 : pedestrian\n"
     ]
    }
   ],
   "source": [
    "if DATA_DRIVEN_PREDICTION:\n",
    "    pre_process_obj.label_encoding()\n",
    "    pre_process_obj.print_label_encoder_classes()"
   ]
  },
  {
   "cell_type": "markdown",
   "id": "7beb09ca",
   "metadata": {
    "pycharm": {
     "name": "#%% md\n"
    },
    "tags": []
   },
   "source": [
    "### 3.3.2 Normalizing data between 0 and 1\n",
    "To understand this step, I want you to refer to my youtube channel, where we've put together a nice playlist, with some background information about machine learning, motion prediction, python, jupyter notebooks and all that good stuff. Watch the linked video first!\n",
    "\n",
    "Smash that like-button, subscribe and ring the bell and so on...!\n",
    "\n",
    "[![](pictures_main/scalingYouTube.png)](https://www.youtube.com/watch?v=Y7m9MyPxcyQ&list=PLZ6Q6guexAFO_gbbxjxrNVrFx0zgIbmyN&index=24)"
   ]
  },
  {
   "cell_type": "markdown",
   "id": "19519aea",
   "metadata": {
    "pycharm": {
     "name": "#%% md\n"
    }
   },
   "source": [
    "## \"min_max_scalar_list\" order:"
   ]
  },
  {
   "cell_type": "markdown",
   "id": "ac06f045",
   "metadata": {
    "pycharm": {
     "name": "#%% md\n"
    }
   },
   "source": [
    "```\n",
    "Useful for inverse transform\n",
    "        0: 'xCenter',   1: 'yCenter',       2: 'heading',       3: 'width',       4: 'length', 5: 'xVelocity',\n",
    "        6: 'yVelocity', 7: 'xAcceleration', 8: 'yAcceleration', 9: 'lonVelocity', 10: 'latVelocity', \n",
    "       11:'lonAcceleration',  \n",
    "       12:'latAcceleration'\n",
    "           To USE: min_max_scalar_list[0] .... etc \n",
    "```"
   ]
  },
  {
   "cell_type": "code",
   "execution_count": 12,
   "id": "938a1f81",
   "metadata": {
    "collapsed": false,
    "jupyter": {
     "outputs_hidden": false
    },
    "pycharm": {
     "name": "#%%\n"
    }
   },
   "outputs": [],
   "source": [
    " if DATA_DRIVEN_PREDICTION:\n",
    "    # Gets the tracks data normalized\n",
    "    tracks_data_norm, min_max_scalar_list = pre_process_obj.normalize_data()"
   ]
  },
  {
   "cell_type": "markdown",
   "id": "de49e989",
   "metadata": {
    "pycharm": {
     "name": "#%% md\n"
    },
    "tags": []
   },
   "source": [
    "## 4.0 Preparing Data for Training and Testing\n",
    "Our prediction function should receive some chunks of data from the past $x$ and should predict the output $y$. From the dataset, we know which $y$ should be predicted based on each $x$. So at time step $t_i$ we need to know our current data point $x_i$ (could be position or velocity or whatever) and some history of data points $x_{i-1} \\dots x_{i-N_{past}}\\,$  from the time steps before. ![](pictures_main/slidingWindow.png)\n",
    "*Fig: Sliding Window on a time series*\n",
    "\n",
    "When training a neural network, we want to approximate a function $f( \\,)$ that maps our inputs $x$ to our outputs $y$\n",
    "$$\\large{y} = \\large{f} \\big(\n",
    "        \\begin{bmatrix}\n",
    "            \\mathbf{x_1}^T  & \n",
    "            \\mathbf{x_2}^T & \n",
    "            \\mathbf{\\dots} &\n",
    "            \\mathbf{x_n}^T &\n",
    "        \\end{bmatrix}\n",
    "    \\big)$$\n",
    "    \n",
    "[![](pictures_main/NeuralNetworkYouTube.png)](https://www.youtube.com/watch?v=aircAruvnKk&list=PLZ6Q6guexAFO_gbbxjxrNVrFx0zgIbmyN&index=2)\n",
    "    \n",
    "Therefore, we first need to know how our predictions $y$ should look like, so our training process is able to know how well the desired function is approximated. So in this case, we also have to grab the future values $x_{i+1} \\dots x_{i+N_{future}}\\,$ to declare them as output values $y_{i+1} \\dots y_{i+N_{future}}\\,$.\n",
    "![](pictures_main/slidingWindow_Y.png)\n",
    "*Fig: Sliding Window with inputs and outputs with $N_{past}$ = 3, $N_{future}$ = 2*\n",
    "\n",
    "We need to do that anyway, because in the end, we need to evaluate how well we did with our prediction and therefore we will predict $\\hat{y}_{i+1} \\dots \\hat{y}_{i+N_{future}}\\,$ and need to compare this with the actual $y_{i+1} \\dots y_{i+N_{future}}\\,$."
   ]
  },
  {
   "cell_type": "markdown",
   "id": "1d26186f",
   "metadata": {
    "pycharm": {
     "name": "#%% md\n"
    }
   },
   "source": [
    "### 4.1 Loading Data\n",
    "First, we hand all the necessary data about the data to the object."
   ]
  },
  {
   "cell_type": "code",
   "execution_count": 13,
   "id": "59726820",
   "metadata": {
    "collapsed": false,
    "jupyter": {
     "outputs_hidden": false
    },
    "pycharm": {
     "name": "#%%\n"
    }
   },
   "outputs": [],
   "source": [
    "if DATA_DRIVEN_PREDICTION:\n",
    "    # Resetting dropped frames index\n",
    "    tracks_data_norm = tracks_data_norm.reset_index(drop=True)\n",
    "    \n",
    "    data_prepare_obj = dataPrepare()\n",
    "    data_prepare_obj.tracks_data_norm = tracks_data_norm\n",
    "    data_prepare_obj.tracksMeta_data = tracks_meta_data\n",
    "    data_prepare_obj.data_len = len(tracks_data_norm)"
   ]
  },
  {
   "cell_type": "markdown",
   "id": "3f2bd2f9",
   "metadata": {
    "pycharm": {
     "name": "#%% md\n"
    }
   },
   "source": [
    "### 4.2 Splitting Data"
   ]
  },
  {
   "cell_type": "markdown",
   "id": "0d273f4b",
   "metadata": {
    "pycharm": {
     "name": "#%% md\n"
    }
   },
   "source": [
    "With its function `data_stacking()` the `data_prepare_obj` grabs the vectors from our time series in this sliding window fashion. Additionally, it stacks all the obtained sequences underneath each other in a single vector. Also additionally, it splits the final huge vector into a set of \"training\" data and \"validation\" data."
   ]
  },
  {
   "cell_type": "code",
   "execution_count": 14,
   "id": "d3ecf6c4",
   "metadata": {
    "collapsed": false,
    "jupyter": {
     "outputs_hidden": false
    },
    "pycharm": {
     "name": "#%%\n"
    }
   },
   "outputs": [
    {
     "name": "stdout",
     "output_type": "stream",
     "text": [
      "This might take a while!\n",
      "Current progress: 0.0 %\n",
      "Current progress: 1.01 %\n",
      "Current progress: 2.02 %\n",
      "Current progress: 3.03 %\n",
      "Current progress: 4.04 %\n",
      "Current progress: 5.05 %\n",
      "Current progress: 6.06 %\n",
      "Current progress: 7.07 %\n",
      "Current progress: 8.08 %\n",
      "Current progress: 9.09 %\n",
      "Current progress: 10.1 %\n",
      "Current progress: 11.11 %\n",
      "Current progress: 12.12 %\n",
      "Current progress: 13.13 %\n",
      "Current progress: 14.14 %\n",
      "Current progress: 15.15 %\n",
      "Current progress: 16.16 %\n",
      "Current progress: 17.17 %\n",
      "Current progress: 18.18 %\n",
      "Current progress: 19.19 %\n",
      "Current progress: 20.2 %\n",
      "Current progress: 21.21 %\n",
      "Current progress: 22.22 %\n",
      "Current progress: 23.23 %\n",
      "Current progress: 24.24 %\n",
      "Current progress: 25.25 %\n",
      "Current progress: 26.26 %\n",
      "Current progress: 27.27 %\n",
      "Current progress: 28.28 %\n",
      "Current progress: 29.29 %\n",
      "Current progress: 30.3 %\n",
      "Current progress: 31.31 %\n",
      "Current progress: 32.32 %\n",
      "Current progress: 33.33 %\n",
      "Current progress: 34.34 %\n",
      "Current progress: 35.35 %\n",
      "Current progress: 36.36 %\n",
      "Current progress: 37.37 %\n",
      "Current progress: 38.38 %\n",
      "Current progress: 39.39 %\n",
      "Current progress: 40.4 %\n",
      "Current progress: 41.41 %\n",
      "Current progress: 42.42 %\n",
      "Current progress: 43.43 %\n",
      "Current progress: 44.44 %\n",
      "Current progress: 45.45 %\n",
      "Current progress: 46.46 %\n",
      "Current progress: 47.47 %\n",
      "Current progress: 48.48 %\n",
      "Current progress: 49.49 %\n",
      "Current progress: 50.51 %\n",
      "Current progress: 51.52 %\n",
      "Current progress: 52.53 %\n",
      "Current progress: 53.54 %\n",
      "Current progress: 54.55 %\n",
      "Current progress: 55.56 %\n",
      "Current progress: 56.57 %\n",
      "Current progress: 57.58 %\n",
      "Current progress: 58.59 %\n",
      "Current progress: 59.6 %\n",
      "Current progress: 60.61 %\n",
      "Current progress: 61.62 %\n",
      "Current progress: 62.63 %\n",
      "Current progress: 63.64 %\n",
      "Current progress: 64.65 %\n",
      "Current progress: 65.66 %\n",
      "Current progress: 66.67 %\n",
      "Current progress: 67.68 %\n",
      "Current progress: 68.69 %\n",
      "Current progress: 69.7 %\n",
      "Current progress: 70.71 %\n",
      "Current progress: 71.72 %\n",
      "Current progress: 72.73 %\n",
      "Current progress: 73.74 %\n",
      "Current progress: 74.75 %\n",
      "Current progress: 75.76 %\n",
      "Current progress: 76.77 %\n",
      "Current progress: 77.78 %\n",
      "Current progress: 78.79 %\n",
      "Current progress: 79.8 %\n",
      "Current progress: 80.81 %\n",
      "Current progress: 81.82 %\n",
      "Current progress: 82.83 %\n",
      "Current progress: 83.84 %\n",
      "Current progress: 84.85 %\n",
      "Current progress: 85.86 %\n",
      "Current progress: 86.87 %\n",
      "Current progress: 87.88 %\n",
      "Current progress: 88.89 %\n",
      "Current progress: 89.9 %\n",
      "Current progress: 90.91 %\n",
      "Current progress: 91.92 %\n",
      "Current progress: 92.93 %\n",
      "Current progress: 93.94 %\n",
      "Current progress: 94.95 %\n",
      "Current progress: 95.96 %\n",
      "Current progress: 96.97 %\n",
      "Current progress: 97.98 %\n",
      "Current progress: 98.99 %\n",
      "Current progress: 100.0 %\n",
      "Done! \n"
     ]
    }
   ],
   "source": [
    "if DATA_DRIVEN_PREDICTION:\n",
    "    # Number for track id to be used\n",
    "    data_prepare_obj.track_id_range = 100\n",
    "    \n",
    "    data_prepare_obj.data_input = \"normalized_data\"\n",
    "    xTrain_data, xTest_data, yTrain_data, yTest_data = data_prepare_obj.get_test_train_split()"
   ]
  },
  {
   "cell_type": "markdown",
   "id": "d4af9d10",
   "metadata": {
    "pycharm": {
     "name": "#%% md\n"
    },
    "tags": []
   },
   "source": [
    "This concept of splitting the data into different parts is very important with regard to \"overfitting\". To get a bit of visual intuition, enjoy another video:\n",
    "[![](pictures_main/splitDataYouTube.png)](https://www.youtube.com/watch?v=77jUW9IoooM&list=PLZ6Q6guexAFO_gbbxjxrNVrFx0zgIbmyN&index=27&t=868s)"
   ]
  },
  {
   "cell_type": "markdown",
   "id": "146ee7bb",
   "metadata": {
    "pycharm": {
     "name": "#%% md\n"
    }
   },
   "source": [
    "### 4.3  Save Train, Test, Scalars in Pickle Files\n",
    "Here we use pickle library to save and load test data"
   ]
  },
  {
   "cell_type": "code",
   "execution_count": 15,
   "id": "f91a7490",
   "metadata": {
    "collapsed": false,
    "jupyter": {
     "outputs_hidden": false
    },
    "pycharm": {
     "name": "#%%\n"
    }
   },
   "outputs": [],
   "source": [
    "SAVE_PICKLE_FLAG = False\n",
    "OPEN_PICKLE_FLAG = False\n",
    "if DATA_DRIVEN_PREDICTION and SAVE_PICKLE_FLAG:\n",
    "    # Save the xTrain, xTest, yTrain, xTest in pickle format\n",
    "    data_prepare_obj.save_test_train_data_pickle()\n",
    "if DATA_DRIVEN_PREDICTION and OPEN_PICKLE_FLAG:\n",
    "    # Load the xTrain, xTest, yTrain, xTest from a pickle format\n",
    "    data_prepare_obj.load_test_train_data_pickle()"
   ]
  },
  {
   "cell_type": "markdown",
   "id": "5c521fcd",
   "metadata": {
    "pycharm": {
     "name": "#%% md\n"
    }
   },
   "source": [
    "## 5.0 Prediction Models\n",
    "\n",
    "In this section you can introduce prepared predictions models from the folder `/prediction_models`. Prepare your own model there and load it into this file."
   ]
  },
  {
   "cell_type": "markdown",
   "id": "6f590354",
   "metadata": {
    "pycharm": {
     "name": "#%% md\n"
    }
   },
   "source": [
    "### 5.1 Constant Velocity Model\n",
    "Take a look into the python file to see what is going on there!"
   ]
  },
  {
   "cell_type": "code",
   "execution_count": 47,
   "id": "83a04fdd",
   "metadata": {
    "collapsed": false,
    "jupyter": {
     "outputs_hidden": false
    },
    "pycharm": {
     "name": "#%%\n"
    }
   },
   "outputs": [],
   "source": [
    "sys.path.append('prediction_models/constant_velocity/')\n",
    "from const_vel import my_constant_vel_model"
   ]
  },
  {
   "cell_type": "markdown",
   "id": "f6150e83",
   "metadata": {
    "pycharm": {
     "name": "#%% md\n"
    }
   },
   "source": [
    "### 5.2 Constant Acceleration Model"
   ]
  },
  {
   "cell_type": "code",
   "execution_count": 48,
   "id": "c828c1d2",
   "metadata": {
    "collapsed": false,
    "jupyter": {
     "outputs_hidden": false
    },
    "pycharm": {
     "name": "#%%\n"
    }
   },
   "outputs": [],
   "source": [
    "sys.path.append('prediction_models/constant_acceleration/')\n",
    "from const_acc import my_constant_acc_model"
   ]
  },
  {
   "cell_type": "markdown",
   "id": "a67bfc04",
   "metadata": {
    "pycharm": {
     "name": "#%% md\n"
    }
   },
   "source": [
    "### 5.3 Neural Network Models\n",
    "Take a look into the python file to see what is going on there!"
   ]
  },
  {
   "cell_type": "code",
   "execution_count": 18,
   "id": "0dc31fae",
   "metadata": {
    "collapsed": false,
    "jupyter": {
     "outputs_hidden": false
    },
    "pycharm": {
     "name": "#%%\n"
    }
   },
   "outputs": [
    {
     "name": "stderr",
     "output_type": "stream",
     "text": [
      "2022-06-17 09:14:27.328711: W tensorflow/stream_executor/platform/default/dso_loader.cc:64] Could not load dynamic library 'libcudart.so.11.0'; dlerror: libcudart.so.11.0: cannot open shared object file: No such file or directory\n",
      "2022-06-17 09:14:27.328729: I tensorflow/stream_executor/cuda/cudart_stub.cc:29] Ignore above cudart dlerror if you do not have a GPU set up on your machine.\n"
     ]
    }
   ],
   "source": [
    "sys.path.append('prediction_models/neural_networks/')\n",
    "from fcn_keras_model import FCN_keras_model"
   ]
  },
  {
   "cell_type": "code",
   "execution_count": 19,
   "id": "4f95bc7e",
   "metadata": {
    "collapsed": false,
    "jupyter": {
     "outputs_hidden": false
    },
    "pycharm": {
     "name": "#%%\n"
    }
   },
   "outputs": [
    {
     "name": "stdout",
     "output_type": "stream",
     "text": [
      "Epoch 1/100\n"
     ]
    },
    {
     "name": "stderr",
     "output_type": "stream",
     "text": [
      "2022-06-17 09:14:28.921569: I tensorflow/stream_executor/cuda/cuda_gpu_executor.cc:975] successful NUMA node read from SysFS had negative value (-1), but there must be at least one NUMA node, so returning NUMA node zero\n",
      "2022-06-17 09:14:28.921739: W tensorflow/stream_executor/platform/default/dso_loader.cc:64] Could not load dynamic library 'libcudart.so.11.0'; dlerror: libcudart.so.11.0: cannot open shared object file: No such file or directory\n",
      "2022-06-17 09:14:28.921791: W tensorflow/stream_executor/platform/default/dso_loader.cc:64] Could not load dynamic library 'libcublas.so.11'; dlerror: libcublas.so.11: cannot open shared object file: No such file or directory\n",
      "2022-06-17 09:14:28.921832: W tensorflow/stream_executor/platform/default/dso_loader.cc:64] Could not load dynamic library 'libcublasLt.so.11'; dlerror: libcublasLt.so.11: cannot open shared object file: No such file or directory\n",
      "2022-06-17 09:14:28.921870: W tensorflow/stream_executor/platform/default/dso_loader.cc:64] Could not load dynamic library 'libcufft.so.10'; dlerror: libcufft.so.10: cannot open shared object file: No such file or directory\n",
      "2022-06-17 09:14:28.921909: W tensorflow/stream_executor/platform/default/dso_loader.cc:64] Could not load dynamic library 'libcurand.so.10'; dlerror: libcurand.so.10: cannot open shared object file: No such file or directory\n",
      "2022-06-17 09:14:28.921946: W tensorflow/stream_executor/platform/default/dso_loader.cc:64] Could not load dynamic library 'libcusolver.so.11'; dlerror: libcusolver.so.11: cannot open shared object file: No such file or directory\n",
      "2022-06-17 09:14:28.921983: W tensorflow/stream_executor/platform/default/dso_loader.cc:64] Could not load dynamic library 'libcusparse.so.11'; dlerror: libcusparse.so.11: cannot open shared object file: No such file or directory\n",
      "2022-06-17 09:14:28.922021: W tensorflow/stream_executor/platform/default/dso_loader.cc:64] Could not load dynamic library 'libcudnn.so.8'; dlerror: libcudnn.so.8: cannot open shared object file: No such file or directory\n",
      "2022-06-17 09:14:28.922026: W tensorflow/core/common_runtime/gpu/gpu_device.cc:1850] Cannot dlopen some GPU libraries. Please make sure the missing libraries mentioned above are installed properly if you would like to use GPU. Follow the guide at https://www.tensorflow.org/install/gpu for how to download and setup the required libraries for your platform.\n",
      "Skipping registering GPU devices...\n",
      "2022-06-17 09:14:28.922594: I tensorflow/core/platform/cpu_feature_guard.cc:193] This TensorFlow binary is optimized with oneAPI Deep Neural Network Library (oneDNN) to use the following CPU instructions in performance-critical operations:  AVX2 FMA\n",
      "To enable them in other operations, rebuild TensorFlow with the appropriate compiler flags.\n"
     ]
    },
    {
     "name": "stdout",
     "output_type": "stream",
     "text": [
      "2190/2190 [==============================] - 4s 2ms/step - loss: 0.0036 - val_loss: 0.0011\n",
      "Epoch 2/100\n",
      "2190/2190 [==============================] - 4s 2ms/step - loss: 9.6172e-04 - val_loss: 9.0822e-04\n",
      "Epoch 3/100\n",
      "2190/2190 [==============================] - 4s 2ms/step - loss: 8.7782e-04 - val_loss: 7.4873e-04\n",
      "Epoch 4/100\n",
      "2190/2190 [==============================] - 4s 2ms/step - loss: 8.3631e-04 - val_loss: 6.5359e-04\n",
      "Epoch 5/100\n",
      "2190/2190 [==============================] - 4s 2ms/step - loss: 7.8178e-04 - val_loss: 6.8392e-04\n",
      "Epoch 6/100\n",
      "2190/2190 [==============================] - 4s 2ms/step - loss: 7.4871e-04 - val_loss: 5.9727e-04\n",
      "Epoch 7/100\n",
      "2190/2190 [==============================] - 4s 2ms/step - loss: 7.4463e-04 - val_loss: 5.8148e-04\n",
      "Epoch 8/100\n",
      "2190/2190 [==============================] - 4s 2ms/step - loss: 7.2502e-04 - val_loss: 6.5080e-04\n",
      "Epoch 9/100\n",
      "2190/2190 [==============================] - 4s 2ms/step - loss: 6.9057e-04 - val_loss: 5.9762e-04\n",
      "Epoch 10/100\n",
      "2190/2190 [==============================] - 4s 2ms/step - loss: 6.8039e-04 - val_loss: 6.1523e-04\n",
      "Epoch 11/100\n",
      "2190/2190 [==============================] - 4s 2ms/step - loss: 6.5703e-04 - val_loss: 4.9025e-04\n",
      "Epoch 12/100\n",
      "2190/2190 [==============================] - 4s 2ms/step - loss: 6.3609e-04 - val_loss: 4.7765e-04\n",
      "Epoch 13/100\n",
      "2190/2190 [==============================] - 4s 2ms/step - loss: 6.1157e-04 - val_loss: 4.8968e-04\n",
      "Epoch 14/100\n",
      "2190/2190 [==============================] - 3s 2ms/step - loss: 5.9950e-04 - val_loss: 4.6826e-04\n",
      "Epoch 15/100\n",
      "2190/2190 [==============================] - 4s 2ms/step - loss: 5.9440e-04 - val_loss: 5.2754e-04\n",
      "Epoch 16/100\n",
      "2190/2190 [==============================] - 4s 2ms/step - loss: 5.5520e-04 - val_loss: 5.2928e-04\n",
      "Epoch 17/100\n",
      "2190/2190 [==============================] - 4s 2ms/step - loss: 5.7791e-04 - val_loss: 4.9706e-04\n",
      "Epoch 18/100\n",
      "2190/2190 [==============================] - 4s 2ms/step - loss: 5.5134e-04 - val_loss: 4.4810e-04\n",
      "Epoch 19/100\n",
      "2190/2190 [==============================] - 3s 2ms/step - loss: 5.3474e-04 - val_loss: 4.4405e-04\n",
      "Epoch 20/100\n",
      "2190/2190 [==============================] - 3s 2ms/step - loss: 5.3962e-04 - val_loss: 4.6937e-04\n",
      "Epoch 21/100\n",
      "2190/2190 [==============================] - 4s 2ms/step - loss: 5.4597e-04 - val_loss: 4.2983e-04\n",
      "Epoch 22/100\n",
      "2190/2190 [==============================] - 4s 2ms/step - loss: 5.4057e-04 - val_loss: 5.9376e-04\n",
      "Epoch 23/100\n",
      "2190/2190 [==============================] - 4s 2ms/step - loss: 5.1005e-04 - val_loss: 4.5954e-04\n",
      "Epoch 24/100\n",
      "2190/2190 [==============================] - 4s 2ms/step - loss: 5.2218e-04 - val_loss: 3.9407e-04\n",
      "Epoch 25/100\n",
      "2190/2190 [==============================] - 4s 2ms/step - loss: 4.9232e-04 - val_loss: 5.2588e-04\n",
      "Epoch 26/100\n",
      "2190/2190 [==============================] - 4s 2ms/step - loss: 5.1472e-04 - val_loss: 4.6920e-04\n",
      "Epoch 27/100\n",
      "2190/2190 [==============================] - 4s 2ms/step - loss: 4.9353e-04 - val_loss: 3.7488e-04\n",
      "Epoch 28/100\n",
      "2190/2190 [==============================] - 4s 2ms/step - loss: 4.8516e-04 - val_loss: 3.9798e-04\n",
      "Epoch 29/100\n",
      "2190/2190 [==============================] - 4s 2ms/step - loss: 4.8040e-04 - val_loss: 4.6790e-04\n",
      "Epoch 30/100\n",
      "2190/2190 [==============================] - 4s 2ms/step - loss: 4.9475e-04 - val_loss: 5.0796e-04\n",
      "Epoch 31/100\n",
      "2190/2190 [==============================] - 4s 2ms/step - loss: 4.7548e-04 - val_loss: 4.0368e-04\n",
      "Epoch 32/100\n",
      "2190/2190 [==============================] - 4s 2ms/step - loss: 4.6457e-04 - val_loss: 3.8968e-04\n",
      "Epoch 33/100\n",
      "2190/2190 [==============================] - 4s 2ms/step - loss: 4.5997e-04 - val_loss: 3.9261e-04\n",
      "Epoch 34/100\n",
      "2190/2190 [==============================] - 4s 2ms/step - loss: 4.6899e-04 - val_loss: 3.3414e-04\n",
      "Epoch 35/100\n",
      "2190/2190 [==============================] - 4s 2ms/step - loss: 4.5264e-04 - val_loss: 3.6356e-04\n",
      "Epoch 36/100\n",
      "2190/2190 [==============================] - 3s 2ms/step - loss: 4.4872e-04 - val_loss: 3.9286e-04\n",
      "Epoch 37/100\n",
      "2190/2190 [==============================] - 4s 2ms/step - loss: 4.6629e-04 - val_loss: 4.1954e-04\n",
      "Epoch 38/100\n",
      "2190/2190 [==============================] - 4s 2ms/step - loss: 4.3332e-04 - val_loss: 4.4351e-04\n",
      "Epoch 39/100\n",
      "2190/2190 [==============================] - 4s 2ms/step - loss: 4.4114e-04 - val_loss: 4.3647e-04\n",
      "Epoch 40/100\n",
      "2190/2190 [==============================] - 4s 2ms/step - loss: 4.4881e-04 - val_loss: 3.4708e-04\n",
      "Epoch 41/100\n",
      "2190/2190 [==============================] - 4s 2ms/step - loss: 4.1376e-04 - val_loss: 3.4645e-04\n",
      "Epoch 42/100\n",
      "2190/2190 [==============================] - 4s 2ms/step - loss: 4.2605e-04 - val_loss: 3.9137e-04\n",
      "Epoch 43/100\n",
      "2190/2190 [==============================] - 4s 2ms/step - loss: 4.2697e-04 - val_loss: 3.5414e-04\n",
      "Epoch 44/100\n",
      "2190/2190 [==============================] - 4s 2ms/step - loss: 4.1026e-04 - val_loss: 3.3066e-04\n",
      "Epoch 45/100\n",
      "2190/2190 [==============================] - 4s 2ms/step - loss: 4.0420e-04 - val_loss: 4.5491e-04\n",
      "Epoch 46/100\n",
      "2190/2190 [==============================] - 4s 2ms/step - loss: 4.0905e-04 - val_loss: 3.7186e-04\n",
      "Epoch 47/100\n",
      "2190/2190 [==============================] - 4s 2ms/step - loss: 4.1696e-04 - val_loss: 3.2116e-04\n",
      "Epoch 48/100\n",
      "2190/2190 [==============================] - 4s 2ms/step - loss: 4.2526e-04 - val_loss: 3.4456e-04\n",
      "Epoch 49/100\n",
      "2190/2190 [==============================] - 4s 2ms/step - loss: 4.1372e-04 - val_loss: 3.6815e-04\n",
      "Epoch 50/100\n",
      "2190/2190 [==============================] - 4s 2ms/step - loss: 3.9592e-04 - val_loss: 3.1283e-04\n",
      "Epoch 51/100\n",
      "2190/2190 [==============================] - 4s 2ms/step - loss: 4.1388e-04 - val_loss: 3.2189e-04\n",
      "Epoch 52/100\n",
      "2190/2190 [==============================] - 4s 2ms/step - loss: 3.9605e-04 - val_loss: 3.3364e-04\n",
      "Epoch 53/100\n",
      "2190/2190 [==============================] - 4s 2ms/step - loss: 3.9861e-04 - val_loss: 3.6688e-04\n",
      "Epoch 54/100\n",
      "2190/2190 [==============================] - 4s 2ms/step - loss: 3.9409e-04 - val_loss: 4.3838e-04\n",
      "Epoch 55/100\n",
      "2190/2190 [==============================] - 4s 2ms/step - loss: 3.9321e-04 - val_loss: 3.8421e-04\n",
      "Epoch 56/100\n",
      "2190/2190 [==============================] - 4s 2ms/step - loss: 3.8334e-04 - val_loss: 3.1261e-04\n",
      "Epoch 57/100\n",
      "2190/2190 [==============================] - 4s 2ms/step - loss: 3.9307e-04 - val_loss: 3.2273e-04\n",
      "Epoch 58/100\n",
      "2190/2190 [==============================] - 4s 2ms/step - loss: 3.7356e-04 - val_loss: 3.3462e-04\n",
      "Epoch 59/100\n",
      "2190/2190 [==============================] - 4s 2ms/step - loss: 3.9086e-04 - val_loss: 3.2158e-04\n",
      "Epoch 60/100\n",
      "2190/2190 [==============================] - 4s 2ms/step - loss: 3.7882e-04 - val_loss: 3.1818e-04\n",
      "Epoch 61/100\n",
      "2190/2190 [==============================] - 4s 2ms/step - loss: 3.9410e-04 - val_loss: 4.0278e-04\n",
      "Epoch 62/100\n",
      "2190/2190 [==============================] - 4s 2ms/step - loss: 3.8713e-04 - val_loss: 3.3301e-04\n",
      "Epoch 63/100\n",
      "2190/2190 [==============================] - 4s 2ms/step - loss: 3.6752e-04 - val_loss: 3.6160e-04\n",
      "Epoch 64/100\n",
      "2190/2190 [==============================] - 4s 2ms/step - loss: 3.7274e-04 - val_loss: 4.0792e-04\n",
      "Epoch 65/100\n",
      "2190/2190 [==============================] - 4s 2ms/step - loss: 3.6462e-04 - val_loss: 3.7171e-04\n",
      "Epoch 66/100\n",
      "2190/2190 [==============================] - 4s 2ms/step - loss: 3.7269e-04 - val_loss: 3.8574e-04\n",
      "Epoch 67/100\n",
      "2190/2190 [==============================] - 4s 2ms/step - loss: 3.6133e-04 - val_loss: 3.4448e-04\n",
      "Epoch 68/100\n",
      "2190/2190 [==============================] - 4s 2ms/step - loss: 3.8387e-04 - val_loss: 2.7947e-04\n",
      "Epoch 69/100\n",
      "2190/2190 [==============================] - 4s 2ms/step - loss: 3.5390e-04 - val_loss: 2.8096e-04\n",
      "Epoch 70/100\n",
      "2190/2190 [==============================] - 4s 2ms/step - loss: 3.6651e-04 - val_loss: 3.2562e-04\n",
      "Epoch 71/100\n",
      "2190/2190 [==============================] - 4s 2ms/step - loss: 3.5672e-04 - val_loss: 3.2925e-04\n",
      "Epoch 72/100\n",
      "2190/2190 [==============================] - 4s 2ms/step - loss: 3.6155e-04 - val_loss: 3.4240e-04\n",
      "Epoch 73/100\n",
      "2190/2190 [==============================] - 4s 2ms/step - loss: 3.6168e-04 - val_loss: 3.5145e-04\n",
      "Epoch 74/100\n",
      "2190/2190 [==============================] - 4s 2ms/step - loss: 3.5666e-04 - val_loss: 3.0366e-04\n",
      "Epoch 75/100\n",
      "2190/2190 [==============================] - 4s 2ms/step - loss: 3.5216e-04 - val_loss: 3.0250e-04\n",
      "Epoch 76/100\n",
      "2190/2190 [==============================] - 4s 2ms/step - loss: 3.6573e-04 - val_loss: 3.8521e-04\n",
      "Epoch 77/100\n",
      "2190/2190 [==============================] - 4s 2ms/step - loss: 3.4354e-04 - val_loss: 2.8385e-04\n",
      "Epoch 78/100\n",
      "2190/2190 [==============================] - 4s 2ms/step - loss: 3.3004e-04 - val_loss: 2.8067e-04\n",
      "Epoch 79/100\n",
      "2190/2190 [==============================] - 4s 2ms/step - loss: 3.3957e-04 - val_loss: 4.8901e-04\n",
      "Epoch 80/100\n",
      "2190/2190 [==============================] - 4s 2ms/step - loss: 3.5204e-04 - val_loss: 4.3591e-04\n",
      "Epoch 81/100\n",
      "2190/2190 [==============================] - 4s 2ms/step - loss: 3.3484e-04 - val_loss: 3.0049e-04\n",
      "Epoch 82/100\n",
      "2190/2190 [==============================] - 4s 2ms/step - loss: 3.5533e-04 - val_loss: 3.3563e-04\n",
      "Epoch 83/100\n",
      "2190/2190 [==============================] - 4s 2ms/step - loss: 3.2346e-04 - val_loss: 2.8181e-04\n",
      "Epoch 84/100\n",
      "2190/2190 [==============================] - 4s 2ms/step - loss: 3.4116e-04 - val_loss: 2.6006e-04\n",
      "Epoch 85/100\n",
      "2190/2190 [==============================] - 4s 2ms/step - loss: 3.4201e-04 - val_loss: 3.3223e-04\n",
      "Epoch 86/100\n",
      "2190/2190 [==============================] - 4s 2ms/step - loss: 3.3601e-04 - val_loss: 3.1054e-04\n",
      "Epoch 87/100\n",
      "2190/2190 [==============================] - 4s 2ms/step - loss: 3.4334e-04 - val_loss: 2.5617e-04\n",
      "Epoch 88/100\n",
      "2190/2190 [==============================] - 4s 2ms/step - loss: 3.4702e-04 - val_loss: 3.1354e-04\n",
      "Epoch 89/100\n",
      "2190/2190 [==============================] - 4s 2ms/step - loss: 3.3482e-04 - val_loss: 2.6103e-04\n",
      "Epoch 90/100\n",
      "2190/2190 [==============================] - 4s 2ms/step - loss: 3.3701e-04 - val_loss: 2.7004e-04\n",
      "Epoch 91/100\n",
      "2190/2190 [==============================] - 4s 2ms/step - loss: 3.3255e-04 - val_loss: 2.6657e-04\n",
      "Epoch 92/100\n",
      "2190/2190 [==============================] - 4s 2ms/step - loss: 3.2390e-04 - val_loss: 3.5734e-04\n",
      "Epoch 93/100\n",
      "2190/2190 [==============================] - 4s 2ms/step - loss: 3.3693e-04 - val_loss: 2.9755e-04\n",
      "Epoch 94/100\n",
      "2190/2190 [==============================] - 4s 2ms/step - loss: 3.4517e-04 - val_loss: 3.4585e-04\n",
      "Epoch 95/100\n",
      "2190/2190 [==============================] - 4s 2ms/step - loss: 3.1426e-04 - val_loss: 3.5765e-04\n",
      "Epoch 96/100\n",
      "2190/2190 [==============================] - 4s 2ms/step - loss: 3.3520e-04 - val_loss: 3.0484e-04\n",
      "Epoch 97/100\n",
      "2190/2190 [==============================] - 4s 2ms/step - loss: 3.2556e-04 - val_loss: 2.7451e-04\n",
      "Epoch 98/100\n",
      "2190/2190 [==============================] - 4s 2ms/step - loss: 3.3278e-04 - val_loss: 2.5606e-04\n",
      "Epoch 99/100\n",
      "2190/2190 [==============================] - 4s 2ms/step - loss: 3.3862e-04 - val_loss: 2.9458e-04\n",
      "Epoch 100/100\n",
      "2190/2190 [==============================] - 4s 2ms/step - loss: 3.1661e-04 - val_loss: 2.4389e-04\n"
     ]
    },
    {
     "data": {
      "image/png": "[encoded data removed]",
      "text/plain": [
       "<Figure size 432x288 with 1 Axes>"
      ]
     },
     "metadata": {
      "needs_background": "light"
     },
     "output_type": "display_data"
    }
   ],
   "source": [
    "if DATA_DRIVEN_PREDICTION:\n",
    "    FCN_model =  FCN_keras_model(xTrain_data, xTest_data, yTrain_data, yTest_data)"
   ]
  },
  {
   "cell_type": "markdown",
   "id": "89d2a5d6",
   "metadata": {
    "pycharm": {
     "name": "#%% md\n"
    }
   },
   "source": [
    "# 6.0 Prediction Testing\n",
    "To see how well we did we need to use our model to make predictions. At the end of this section we want to write the data into an excel sheet. This excel sheet is needed to evaluate your predictions in a standardized fashion (important for the competition).\n",
    "Now we need to generate predictions and compare it to the ground truth - what actually happened."
   ]
  },
  {
   "cell_type": "markdown",
   "id": "15dd5855",
   "metadata": {
    "pycharm": {
     "name": "#%% md\n"
    }
   },
   "source": [
    "## 6.1 Generate Testset Data\n",
    "First we produce some predictions."
   ]
  },
  {
   "cell_type": "markdown",
   "id": "e212b584",
   "metadata": {
    "pycharm": {
     "name": "#%% md\n"
    }
   },
   "source": [
    "## 6.1.1 For Physics Based Prediction"
   ]
  },
  {
   "cell_type": "code",
   "execution_count": 20,
   "id": "62bef48e",
   "metadata": {
    "collapsed": false,
    "jupyter": {
     "outputs_hidden": false
    },
    "pycharm": {
     "name": "#%%\n"
    }
   },
   "outputs": [],
   "source": [
    "if PHYSICS_BASED_PREDICTION:\n",
    "    recording_id_sel = ['19']\n",
    "    data_sel_id = 0 # If there are multiple recordings added\n",
    "    \n",
    "    # Initialize data Grabber Object\n",
    "    test_data_obj = dataGrabber(dataset_path)\n",
    "\n",
    "    test_data_obj.recording_id = recording_id_sel\n",
    "    test_data_obj.read_csv_with_recordingID()\n",
    "\n",
    "    test_track_data = test_data_obj.get_tracks_data()\n",
    "    test_track_meta_data = test_data_obj.get_tracksMeta_data() \n"
   ]
  },
  {
   "cell_type": "markdown",
   "id": "540d94fe-324b-43c7-bfc6-129ed7a38d01",
   "metadata": {
    "pycharm": {
     "name": "#%% md\n"
    },
    "tags": []
   },
   "source": [
    "### Downsampling Data to Match Training Dataset"
   ]
  },
  {
   "cell_type": "code",
   "execution_count": 21,
   "id": "4b4d58cd",
   "metadata": {
    "collapsed": false,
    "jupyter": {
     "outputs_hidden": false
    },
    "pycharm": {
     "name": "#%%\n"
    }
   },
   "outputs": [],
   "source": [
    "if PHYSICS_BASED_PREDICTION:\n",
    "    test_pre_process_obj = preProcess()\n",
    "    test_pre_process_obj.tracks_data = test_track_data\n",
    "    test_pre_process_obj.tracks_meta_data = test_track_meta_data\n",
    "    test_pre_process_obj.recording_ids = test_data_obj.recording_id\n",
    "    test_pre_process_obj.data_len = len(test_track_data)\n",
    "    \n",
    "    test_pre_process_obj.frames_skipped = 5\n",
    "    new_sampling_rate = 0.2\n",
    "    test_pre_process_obj.new_sampling_rate = new_sampling_rate\n",
    "    test_track_data_downsampled, test_tracks_meta_data = test_pre_process_obj.get_down_sampled_data()\n",
    "    #test_pre_process_obj.tracks_data = test_track_data_downsampled"
   ]
  },
  {
   "cell_type": "markdown",
   "id": "48c84425",
   "metadata": {
    "pycharm": {
     "name": "#%% md\n"
    }
   },
   "source": [
    "### Concatinating Dataframes and Sorting by \"frame\""
   ]
  },
  {
   "cell_type": "code",
   "execution_count": 22,
   "id": "0649dfab",
   "metadata": {
    "collapsed": false,
    "jupyter": {
     "outputs_hidden": false
    },
    "pycharm": {
     "name": "#%%\n"
    }
   },
   "outputs": [],
   "source": [
    "if PHYSICS_BASED_PREDICTION:\n",
    "    sel_id = 0 # if multiple recording ids are selected -> index value of the array has to be given\n",
    "        \n",
    "    test_track_data_sel = track_data_downsampled\n",
    "    test_track_meta_data_sel = test_track_meta_data\n",
    "\n",
    "    # Reorder Tracks File by \"frame\"\n",
    "    test_track_data_sel = test_track_data_sel.sort_values([\"frame\"], axis = 0, ascending = True)"
   ]
  },
  {
   "cell_type": "markdown",
   "id": "acb2b106",
   "metadata": {
    "pycharm": {
     "name": "#%% md\n"
    }
   },
   "source": [
    "## 6.1.2 For Data Driven Prediction"
   ]
  },
  {
   "cell_type": "code",
   "execution_count": 23,
   "id": "4dfb74c7-8ef9-4069-b697-3c9ac81f160d",
   "metadata": {
    "collapsed": false,
    "jupyter": {
     "outputs_hidden": false
    },
    "pycharm": {
     "name": "#%%\n"
    }
   },
   "outputs": [],
   "source": [
    "if DATA_DRIVEN_PREDICTION:   \n",
    "    recording_id_sel = ['19']\n",
    "    data_sel_id = 0 # If there are multiple recordings added\n",
    "    \n",
    "    # Initialize data Grabber Object\n",
    "    test_data_obj = dataGrabber(dataset_path)\n",
    "\n",
    "    test_data_obj.recording_id = recording_id_sel\n",
    "    test_data_obj.read_csv_with_recordingID()\n",
    "\n",
    "    test_track_data = test_data_obj.get_tracks_data()\n",
    "    test_track_meta_data = test_data_obj.get_tracksMeta_data()    "
   ]
  },
  {
   "cell_type": "markdown",
   "id": "f1e2f348",
   "metadata": {
    "pycharm": {
     "name": "#%% md\n"
    },
    "tags": []
   },
   "source": [
    "### Preprocessing and Downsampling Data to Match Training Dataset"
   ]
  },
  {
   "cell_type": "code",
   "execution_count": 24,
   "id": "f031228c-a865-482f-b7c0-8817820618aa",
   "metadata": {
    "collapsed": false,
    "jupyter": {
     "outputs_hidden": false
    },
    "pycharm": {
     "name": "#%%\n"
    }
   },
   "outputs": [],
   "source": [
    "if DATA_DRIVEN_PREDICTION:   \n",
    "    test_pre_process_obj = preProcess()\n",
    "    test_pre_process_obj.tracks_data = test_track_data\n",
    "    test_pre_process_obj.tracks_meta_data = test_track_meta_data\n",
    "    test_pre_process_obj.recording_ids = test_data_obj.recording_id\n",
    "    test_pre_process_obj.data_len = len(test_track_data)\n",
    "    \n",
    "    test_pre_process_obj.frames_skipped = 5\n",
    "    test_track_data_downsampled, test_tracks_meta_data = test_pre_process_obj.get_down_sampled_data()\n",
    "    test_pre_process_obj.tracks_data = test_track_data_downsampled"
   ]
  },
  {
   "cell_type": "markdown",
   "id": "394ae744-5d19-4bc4-a907-467e44fc031f",
   "metadata": {
    "pycharm": {
     "name": "#%% md\n"
    },
    "tags": []
   },
   "source": [
    "### Data Normalization"
   ]
  },
  {
   "cell_type": "code",
   "execution_count": 25,
   "id": "4e355a67-e239-4bd7-966b-818ba3e63cd4",
   "metadata": {
    "collapsed": false,
    "jupyter": {
     "outputs_hidden": false
    },
    "pycharm": {
     "name": "#%%\n"
    }
   },
   "outputs": [],
   "source": [
    "if DATA_DRIVEN_PREDICTION:   \n",
    "    # Gets the tracks data normalized\n",
    "    test_tracks_data_norm, min_max_scalar_list = test_pre_process_obj.normalize_data()\n",
    "     # Resetting dropped frames index\n",
    "    test_tracks_data_norm = test_tracks_data_norm.reset_index(drop=True)\n",
    "    \n",
    "    # Saving Normalized Data\n",
    "    test_data_prepare_obj = dataPrepare()\n",
    "    test_data_prepare_obj.tracks_data_norm = test_tracks_data_norm\n",
    "    test_data_prepare_obj.tracksMeta_data = test_tracks_meta_data\n",
    "    test_data_prepare_obj.data_len = len(test_tracks_data_norm)"
   ]
  },
  {
   "cell_type": "markdown",
   "id": "99d070ae-8bdf-47cc-9236-ba1c18fa11f0",
   "metadata": {
    "tags": []
   },
   "source": [
    "### Data Stacking"
   ]
  },
  {
   "cell_type": "code",
   "execution_count": 26,
   "id": "c8b16c8e-3ff9-4101-a1d5-c08956864905",
   "metadata": {
    "pycharm": {
     "name": "#%%\n"
    },
    "tags": []
   },
   "outputs": [
    {
     "name": "stdout",
     "output_type": "stream",
     "text": [
      "This might take a while!\n",
      "Current progress: 0.0 %\n",
      "Current progress: 11.11 %\n",
      "Current progress: 22.22 %\n",
      "Current progress: 33.33 %\n",
      "Current progress: 44.44 %\n",
      "Current progress: 55.56 %\n",
      "Current progress: 66.67 %\n",
      "Current progress: 77.78 %\n",
      "Current progress: 88.89 %\n",
      "Current progress: 100.0 %\n",
      "Done! \n"
     ]
    }
   ],
   "source": [
    "if DATA_DRIVEN_PREDICTION:\n",
    "    # Number for track id to be used\n",
    "    test_data_prepare_obj.track_id_range = 10  \n",
    "    \n",
    "    # Gets the tracks data normalized and its ID\n",
    "    test_data_prepare_obj.data_input = \"normalized_data\"\n",
    "    t_norm_Ids, t_in_norm, t_out_norm = test_data_prepare_obj.data_stacking()\n",
    "    # Predict the output\n",
    "    n_input = np.shape(t_in_norm)[1] * np.shape(t_in_norm)[2]\n",
    "    t_in_norm_reshaped = np.reshape(t_in_norm, (np.shape(t_in_norm)[0], n_input))"
   ]
  },
  {
   "cell_type": "markdown",
   "id": "97db666c",
   "metadata": {
    "pycharm": {
     "name": "#%% md\n"
    }
   },
   "source": [
    "## 6.2 Collect Ground Truth"
   ]
  },
  {
   "cell_type": "markdown",
   "id": "558ec71d",
   "metadata": {
    "pycharm": {
     "name": "#%% md\n"
    }
   },
   "source": [
    "### 6.2.1 For Physics Based Modeling"
   ]
  },
  {
   "cell_type": "code",
   "execution_count": 27,
   "id": "a6a3ac45",
   "metadata": {
    "collapsed": false,
    "jupyter": {
     "outputs_hidden": false
    },
    "pycharm": {
     "name": "#%%\n"
    }
   },
   "outputs": [],
   "source": [
    "sys.path.append('evaluation/')\n",
    "from physics_based_pred_evaluator import physicsBasedEvaluation"
   ]
  },
  {
   "cell_type": "code",
   "execution_count": 28,
   "id": "c926eba0",
   "metadata": {
    "collapsed": false,
    "jupyter": {
     "outputs_hidden": false
    },
    "pycharm": {
     "name": "#%%\n"
    }
   },
   "outputs": [],
   "source": [
    "if PHYSICS_BASED_PREDICTION: \n",
    "    phy_eval_obj = physicsBasedEvaluation()\n",
    "    \n",
    "    phy_eval_obj.selected_data = test_track_data_sel\n",
    "\n",
    "     # Setting Other Parameters        \n",
    "    phy_eval_obj.max_num_frames = int(test_track_data_sel.max()[\"frame\"])\n",
    "    phy_eval_obj.recording_id = recording_id_sel[sel_id]\n",
    "    \n",
    "    phy_eval_obj.pred_horizon = 15\n",
    "    phy_eval_obj.frame_range = 100\n",
    "    \n",
    "    # Should be same as what used during downsampling => 5\n",
    "    phy_eval_obj.frames_skipped = pre_process_obj.frames_skipped \n",
    "    \n",
    "    track_data_sampled = list()\n",
    "    test_track_data_sel = test_track_data_sel.sort_values([\"frame\", \"trackId\"], axis = 0, ascending = True)"
   ]
  },
  {
   "cell_type": "markdown",
   "id": "583a9323",
   "metadata": {
    "pycharm": {
     "name": "#%% md\n"
    }
   },
   "source": [
    "Get Ground Truth"
   ]
  },
  {
   "cell_type": "code",
   "execution_count": 29,
   "id": "f33f4545",
   "metadata": {
    "collapsed": false,
    "jupyter": {
     "outputs_hidden": false
    },
    "pycharm": {
     "name": "#%%\n"
    }
   },
   "outputs": [],
   "source": [
    "if PHYSICS_BASED_PREDICTION:\n",
    "    ground_truth, track_id_counter = phy_eval_obj.get_ground_truth()"
   ]
  },
  {
   "cell_type": "markdown",
   "id": "e8ef8380",
   "metadata": {
    "pycharm": {
     "name": "#%% md\n"
    }
   },
   "source": [
    "Get Predicted Value"
   ]
  },
  {
   "cell_type": "code",
   "execution_count": 30,
   "id": "77ff7c48",
   "metadata": {
    "collapsed": false,
    "jupyter": {
     "outputs_hidden": false
    },
    "pycharm": {
     "name": "#%%\n"
    }
   },
   "outputs": [],
   "source": [
    "if PHYSICS_BASED_PREDICTION:\n",
    "    const_vel_model_prediction = my_constant_vel_model(test_track_data_sel, phy_eval_obj.pred_horizon, new_sampling_rate, phy_eval_obj.frame_range)"
   ]
  },
  {
   "cell_type": "markdown",
   "id": "d88900d0",
   "metadata": {
    "pycharm": {
     "name": "#%% md\n"
    }
   },
   "source": [
    "Storing Predicted Values and Ground Truth into the Evaluation"
   ]
  },
  {
   "cell_type": "code",
   "execution_count": 31,
   "id": "7dd3283e",
   "metadata": {
    "collapsed": false,
    "jupyter": {
     "outputs_hidden": false
    },
    "pycharm": {
     "name": "#%%\n"
    }
   },
   "outputs": [],
   "source": [
    "if PHYSICS_BASED_PREDICTION:\n",
    "    phy_eval_obj.predicted_data = const_vel_model_prediction\n",
    "    phy_eval_obj.ground_truth_data = ground_truth"
   ]
  },
  {
   "cell_type": "markdown",
   "id": "7db44f25",
   "metadata": {
    "pycharm": {
     "name": "#%% md\n"
    },
    "tags": []
   },
   "source": [
    "Create Evaluation Workbook and Add Data"
   ]
  },
  {
   "cell_type": "code",
   "execution_count": 32,
   "id": "c0353268",
   "metadata": {
    "pycharm": {
     "name": "#%%\n"
    },
    "tags": []
   },
   "outputs": [],
   "source": [
    "if PHYSICS_BASED_PREDICTION:\n",
    "    work_book_filename = 'constant_velocity_prediction_result.xlsx' \n",
    "elif DATA_DRIVEN_PREDICTION:\n",
    "    work_book_filename = 'NN_velocity_prediction_result.xlsx' "
   ]
  },
  {
   "cell_type": "markdown",
   "id": "e19f19dd",
   "metadata": {
    "pycharm": {
     "name": "#%% md\n"
    }
   },
   "source": [
    "Delete the File if Exists"
   ]
  },
  {
   "cell_type": "code",
   "execution_count": 33,
   "id": "a3bef34c",
   "metadata": {
    "pycharm": {
     "name": "#%%\n"
    },
    "tags": []
   },
   "outputs": [],
   "source": [
    "if PHYSICS_BASED_PREDICTION:\n",
    "    if os.path.exists(work_book_filename):\n",
    "        os.remove(work_book_filename)"
   ]
  },
  {
   "cell_type": "markdown",
   "id": "0afb8d79-7de5-4309-896a-6dd4f4cdf37e",
   "metadata": {},
   "source": [
    "Write To Workbook"
   ]
  },
  {
   "cell_type": "code",
   "execution_count": 34,
   "id": "c038b494",
   "metadata": {
    "collapsed": false,
    "jupyter": {
     "outputs_hidden": false
    },
    "pycharm": {
     "name": "#%%\n"
    }
   },
   "outputs": [],
   "source": [
    "if PHYSICS_BASED_PREDICTION:\n",
    "    phy_eval_obj.wb_filename = work_book_filename\n",
    "    phy_eval_obj.write_to_workbook()"
   ]
  },
  {
   "cell_type": "markdown",
   "id": "f3c80c63",
   "metadata": {
    "pycharm": {
     "name": "#%% md\n"
    }
   },
   "source": [
    "### 6.2.2 For Data-Driven Prediction Models"
   ]
  },
  {
   "cell_type": "code",
   "execution_count": 35,
   "id": "ebc4f768",
   "metadata": {
    "collapsed": false,
    "jupyter": {
     "outputs_hidden": false
    },
    "pycharm": {
     "name": "#%%\n"
    }
   },
   "outputs": [],
   "source": [
    "sys.path.append('evaluation/')\n",
    "from data_driven_pred_evaluator import dataDrivenEvaluation"
   ]
  },
  {
   "cell_type": "code",
   "execution_count": 36,
   "id": "addfc7b3",
   "metadata": {
    "collapsed": false,
    "jupyter": {
     "outputs_hidden": false
    },
    "pycharm": {
     "name": "#%%\n"
    }
   },
   "outputs": [],
   "source": [
    "if DATA_DRIVEN_PREDICTION: \n",
    "    data_eval_obj = dataDrivenEvaluation()    "
   ]
  },
  {
   "cell_type": "markdown",
   "id": "e29fc0d8",
   "metadata": {
    "pycharm": {
     "name": "#%% md\n"
    }
   },
   "source": [
    "Get Ground Truth Data Preparation"
   ]
  },
  {
   "cell_type": "code",
   "execution_count": 37,
   "id": "b7b173c5-0514-498d-9126-6dc93924d17e",
   "metadata": {
    "collapsed": false,
    "jupyter": {
     "outputs_hidden": false
    },
    "pycharm": {
     "name": "#%%\n"
    }
   },
   "outputs": [
    {
     "name": "stdout",
     "output_type": "stream",
     "text": [
      "This might take a while!\n",
      "Current progress: 0.0 %\n",
      "Current progress: 11.11 %\n",
      "Current progress: 22.22 %\n",
      "Current progress: 33.33 %\n",
      "Current progress: 44.44 %\n",
      "Current progress: 55.56 %\n",
      "Current progress: 66.67 %\n",
      "Current progress: 77.78 %\n",
      "Current progress: 88.89 %\n",
      "Current progress: 100.0 %\n",
      "Done! \n"
     ]
    }
   ],
   "source": [
    "if DATA_DRIVEN_PREDICTION:\n",
    "    # Resetting dropped frames index\n",
    "    test_track_data_downsampled = test_track_data_downsampled.reset_index(drop=True)\n",
    "    ground_truth_prepare_obj = dataPrepare()\n",
    "    ground_truth_prepare_obj.data_input = \"raw_data\"\n",
    "    ground_truth_prepare_obj.track_id_range = 10\n",
    "    ground_truth_prepare_obj.tracksMeta_data = test_tracks_meta_data\n",
    "    ground_truth_prepare_obj.tracks_data_norm = test_tracks_data_norm\n",
    "    ground_truth_prepare_obj.tracks_data = test_track_data_downsampled\n",
    "    ground_truth_prepare_obj.data_len = len(test_track_data_downsampled) \n",
    "    #ground_truth_prepare_obj.num_predict = 15\n",
    "    t_raw_Ids, t_in_raw, t_out_raw = ground_truth_prepare_obj.data_stacking()"
   ]
  },
  {
   "cell_type": "markdown",
   "id": "82bbc450-7e4d-4cd7-b5cb-d81714f12520",
   "metadata": {},
   "source": [
    "Copy ground truth data to data driven evaluator"
   ]
  },
  {
   "cell_type": "code",
   "execution_count": 38,
   "id": "8d3d5ce5-b1bc-4d30-aedd-2247a430db2a",
   "metadata": {},
   "outputs": [],
   "source": [
    "if DATA_DRIVEN_PREDICTION:\n",
    "    data_eval_obj.t_raw_Ids = t_raw_Ids\n",
    "    data_eval_obj.t_in_raw = t_in_raw\n",
    "    data_eval_obj.t_out_raw = t_out_raw"
   ]
  },
  {
   "cell_type": "markdown",
   "id": "b7b15c41-b058-456b-a4c5-d4c3a52e4967",
   "metadata": {},
   "source": [
    "Get Ground Truth"
   ]
  },
  {
   "cell_type": "code",
   "execution_count": 39,
   "id": "f2e4ab5d-cf2e-4077-a11e-87ddcaaa42dd",
   "metadata": {},
   "outputs": [],
   "source": [
    "if DATA_DRIVEN_PREDICTION:\n",
    "    xCenter_gt, yCenter_gt, heading_gt = data_eval_obj.get_ground_truth()"
   ]
  },
  {
   "cell_type": "markdown",
   "id": "00420ed6-beb8-4b9e-9771-05d0f74667d0",
   "metadata": {},
   "source": [
    "Get Predicted Value"
   ]
  },
  {
   "cell_type": "markdown",
   "id": "46b32d89-4e45-42ad-859b-5920f11a0289",
   "metadata": {},
   "source": [
    "Use Predict Function for the Model Created"
   ]
  },
  {
   "cell_type": "code",
   "execution_count": 40,
   "id": "47a99abc-12d6-46a1-947d-3496de21faa8",
   "metadata": {},
   "outputs": [],
   "source": [
    "if DATA_DRIVEN_PREDICTION:\n",
    "    yhat = FCN_model.predict(t_in_norm_reshaped, verbose=0)\n",
    "    \n",
    "    # Save Predicted Data into the Evaluator\n",
    "    data_eval_obj.y_hat = yhat"
   ]
  },
  {
   "cell_type": "code",
   "execution_count": 41,
   "id": "f86d5ba0-f3e5-42fa-aa3f-aafad56d02b6",
   "metadata": {},
   "outputs": [],
   "source": [
    "if DATA_DRIVEN_PREDICTION:\n",
    "    # Set Paramters\n",
    "    data_eval_obj.min_max_scalar_list = min_max_scalar_list\n",
    "    \n",
    "    # Get Prediction\n",
    "    xCenter_prediction, yCenter_prediction, heading_prediction = data_eval_obj.get_prediction()"
   ]
  },
  {
   "cell_type": "markdown",
   "id": "b3c2eb9c-a12f-4b89-b9c0-bd4dcfd259ad",
   "metadata": {
    "pycharm": {
     "name": "#%% md\n"
    }
   },
   "source": [
    "Delete the File if Exists"
   ]
  },
  {
   "cell_type": "code",
   "execution_count": 42,
   "id": "b19582aa-5fdb-48b5-870b-f1acce5b1548",
   "metadata": {
    "pycharm": {
     "name": "#%%\n"
    },
    "tags": []
   },
   "outputs": [],
   "source": [
    "if DATA_DRIVEN_PREDICTION:\n",
    "    if os.path.exists(work_book_filename):\n",
    "        os.remove(work_book_filename)"
   ]
  },
  {
   "cell_type": "markdown",
   "id": "407accf1-e208-4f51-859d-db26b509d1e4",
   "metadata": {},
   "source": [
    "Write To Workbook (Excel-Sheet)"
   ]
  },
  {
   "cell_type": "code",
   "execution_count": 43,
   "id": "732db8d0-0c47-44e4-ad12-882ad7701df8",
   "metadata": {
    "collapsed": false,
    "jupyter": {
     "outputs_hidden": false
    },
    "pycharm": {
     "name": "#%%\n"
    }
   },
   "outputs": [],
   "source": [
    "if DATA_DRIVEN_PREDICTION:\n",
    "    data_eval_obj.wb_filename = work_book_filename\n",
    "    data_eval_obj.write_to_workbook()"
   ]
  },
  {
   "cell_type": "markdown",
   "id": "c1e63ad7-2c0c-4d79-aaaa-2629721f3af0",
   "metadata": {},
   "source": [
    "## 7.0 Evaluation\n",
    "Now it's the moment of truth!! We load the data now from the excel sheet and calculate three error metrics:\n",
    "1. **Average Displacement Error (ADE):** \n",
    "Average Displacement Error (ADE): ADE refers to the mean square error (MSE) over all estimated points of every trajectory and the true points.\n",
    "$$\n",
    "\\text{ADE} = \\frac\n",
    "{\\sum_{i=1}^{n}\\sum_{t=T_{Frame}}^{T_{pred}} \\quad  \\big[(\\hat{x}_i^t - x_i^t)^2 + (\\hat{y}_i^t - y_i^t)^2 \\big]}\n",
    "{n(T_{pred}-(T_{Frame}+1))}\n",
    "$$\n",
    "\n",
    "2. **Final displacement error (FDE):** \n",
    "FDE means the distance between the predicted final destination and the true final destination at the $T_{pred}$ time.\n",
    "$$\n",
    "\\text{FDE} = \\frac\n",
    "{\\sum_{i=1}^n \\sqrt{\\big( \\, \\hat{x}_i^{T_{pred}} - x_i^{T_{pred}} \\, \\,\\big)^2  + \\big( \\, \\hat{y}_i^{T_{pred}} - y_i^{T_{pred}} \\, \\,\\big)^2 }}\n",
    "{n}\n",
    "$$ \n",
    "\n",
    "3. **Average Absolute Heading Error (AHE):** \n",
    "This is a bit like ADE but we take the 1-norm of the error and we only consider the heading prediction here.\n",
    "$$\n",
    "\\text{AHE} = \\frac\n",
    "{\\sum_{i=1}^{n}\\sum_{t=T_{Frame}}^{T_{pred}} \\quad \\big| \\hat{y}_i^t - y_i^t \\big| }\n",
    "{n(T_{pred}-(T_{Frame}+1))}\n",
    "$$"
   ]
  },
  {
   "cell_type": "code",
   "execution_count": 44,
   "id": "6b02d084-29be-4025-9b06-4ce65aac47a3",
   "metadata": {},
   "outputs": [],
   "source": [
    "from evaluation_matrix import evaluationMatrix"
   ]
  },
  {
   "cell_type": "code",
   "execution_count": 45,
   "id": "a161ff03-7bc7-4a19-b0b1-69e1c4d9da86",
   "metadata": {},
   "outputs": [],
   "source": [
    "if PHYSICS_BASED_PREDICTION:\n",
    "    eval_obj = evaluationMatrix(work_book_filename, phy_eval_obj.pred_horizon)  \n",
    "elif DATA_DRIVEN_PREDICTION:\n",
    "    eval_obj = evaluationMatrix(work_book_filename, data_eval_obj.n_predict) "
   ]
  },
  {
   "cell_type": "code",
   "execution_count": 46,
   "id": "f080f04a-b29a-494e-ab2b-a78edcd5a5cc",
   "metadata": {},
   "outputs": [
    {
     "name": "stdout",
     "output_type": "stream",
     "text": [
      "The average displacement error is 61.823 m\n",
      "The average final displacement error is 61.688 m\n",
      "The average absolute heading error is 111.9 degrees\n"
     ]
    }
   ],
   "source": [
    "ade_value, fde_value, ahe_val = eval_obj.get_fde_ade_ahe()"
   ]
  }
 ],
 "metadata": {
  "interpreter": {
   "hash": "6cc0136a1d0756f8532771372b10b5131b73f8263c41cdf1b1974679577f2060"
  },
  "kernelspec": {
   "display_name": "Python 3 (ipykernel)",
   "language": "python",
   "name": "python3"
  },
  "language_info": {
   "codemirror_mode": {
    "name": "ipython",
    "version": 3
   },
   "file_extension": ".py",
   "mimetype": "text/x-python",
   "name": "python",
   "nbconvert_exporter": "python",
   "pygments_lexer": "ipython3",
   "version": "3.8.10"
  }
 },
 "nbformat": 4,
 "nbformat_minor": 5
}
